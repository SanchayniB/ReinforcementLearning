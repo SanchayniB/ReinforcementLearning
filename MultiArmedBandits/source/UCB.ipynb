{
 "nbformat": 4,
 "nbformat_minor": 2,
 "metadata": {
  "language_info": {
   "name": "python",
   "codemirror_mode": {
    "name": "ipython",
    "version": 3
   }
  },
  "orig_nbformat": 2,
  "file_extension": ".py",
  "mimetype": "text/x-python",
  "name": "python",
  "npconvert_exporter": "python",
  "pygments_lexer": "ipython3",
  "version": 3
 },
 "cells": [
  {
   "cell_type": "markdown",
   "metadata": {},
   "source": [
    "## Upper-Confidence-Bound Action Selection\n",
    "\\begin{align}\n",
    "A_{t}\\doteq\\ argmax[ Q_{t}(a) + c \\sqrt{} \\frac{ln(t)}{N_{t}(a)}]\n",
    "\\end{align}"
   ]
  }
 ]
}